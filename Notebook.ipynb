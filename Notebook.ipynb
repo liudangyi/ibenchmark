{
 "cells": [
  {
   "cell_type": "code",
   "execution_count": 11,
   "metadata": {},
   "outputs": [],
   "source": [
    "from run_test import run_test, get_all_tests"
   ]
  },
  {
   "cell_type": "code",
   "execution_count": 13,
   "metadata": {},
   "outputs": [
    {
     "name": "stdout",
     "output_type": "stream",
     "text": [
      "Building...\n",
      "Running test loop for 6 times...\n"
     ]
    },
    {
     "data": {
      "text/plain": [
       "{'loop': [1.000522, 1.000103, 0.999578, 1.000617, 0.99959, 0.999838]}"
      ]
     },
     "execution_count": 13,
     "metadata": {},
     "output_type": "execute_result"
    }
   ],
   "source": [
    "run_test('loop', repeat=6)"
   ]
  },
  {
   "cell_type": "code",
   "execution_count": 14,
   "metadata": {},
   "outputs": [
    {
     "data": {
      "text/plain": [
       "[u'mem_latency_2k',\n",
       " u'mem_latency_2m',\n",
       " u'mem_latency_512k',\n",
       " u'mem_latency_8k',\n",
       " u'mem_latency_8m',\n",
       " u'rdtsc',\n",
       " u'mem_latency_16k',\n",
       " u'mem_latency_16m',\n",
       " u'call5',\n",
       " u'call4',\n",
       " u'call7',\n",
       " u'call6',\n",
       " u'call1',\n",
       " u'call0',\n",
       " u'call3',\n",
       " u'call2',\n",
       " u'mem_latency_256k',\n",
       " u'nanosleep',\n",
       " u'mem_latency_4m',\n",
       " u'getpid',\n",
       " u'mem_latency_4k',\n",
       " u'switch_process',\n",
       " u'getppid',\n",
       " u'switch_thread',\n",
       " u'mem_latency_32m',\n",
       " u'mem_latency_32k',\n",
       " u'create_process',\n",
       " u'create_thread',\n",
       " u'mem_latency_64k',\n",
       " u'getuid',\n",
       " u'mem_latency_64m',\n",
       " u'mem_latency_128m',\n",
       " u'mem_latency_128k',\n",
       " u'mem_latency_1k',\n",
       " u'loop',\n",
       " u'mem_latency_1m']"
      ]
     },
     "execution_count": 14,
     "metadata": {},
     "output_type": "execute_result"
    }
   ],
   "source": [
    "get_all_tests()"
   ]
  },
  {
   "cell_type": "code",
   "execution_count": 17,
   "metadata": {
    "scrolled": false
   },
   "outputs": [
    {
     "name": "stdout",
     "output_type": "stream",
     "text": [
      "Running test mem_latency_2k for 3 times...\n",
      "Running test mem_latency_2m for 3 times...\n",
      "Running test mem_latency_512k for 3 times...\n",
      "Running test mem_latency_8k for 3 times...\n",
      "Running test mem_latency_8m for 3 times...\n",
      "Running test mem_latency_16k for 3 times...\n",
      "Running test mem_latency_16m for 3 times...\n",
      "Running test mem_latency_256k for 3 times...\n",
      "Running test mem_latency_4m for 3 times...\n",
      "Running test mem_latency_4k for 3 times...\n",
      "Running test mem_latency_32m for 3 times...\n",
      "Running test mem_latency_32k for 3 times...\n",
      "Running test mem_latency_64k for 3 times...\n",
      "Running test mem_latency_64m for 3 times...\n",
      "Running test mem_latency_128m for 3 times...\n",
      "Running test mem_latency_128k for 3 times...\n",
      "Running test mem_latency_1k for 3 times...\n",
      "Running test mem_latency_1m for 3 times...\n"
     ]
    },
    {
     "data": {
      "text/plain": [
       "{u'mem_latency_128k': [15.734622, 12.213822, 11.99451],\n",
       " u'mem_latency_128m': [303.472762, 295.055566, 294.656556],\n",
       " u'mem_latency_16k': [5.187592, 4.362194, 3.996934],\n",
       " u'mem_latency_16m': [254.963316, 228.850638, 253.016006],\n",
       " u'mem_latency_1k': [4.073596, 3.988106, 3.99703],\n",
       " u'mem_latency_1m': [47.733612, 46.365622, 47.209302],\n",
       " u'mem_latency_256k': [17.68297, 11.992256, 11.994358],\n",
       " u'mem_latency_2k': [4.360162, 3.996246, 3.988566],\n",
       " u'mem_latency_2m': [51.460908, 45.470542, 50.92312],\n",
       " u'mem_latency_32k': [4.799826, 4.04477, 4.390944],\n",
       " u'mem_latency_32m': [293.80067, 283.671734, 282.395626],\n",
       " u'mem_latency_4k': [4.072854, 3.991474, 3.997064],\n",
       " u'mem_latency_4m': [66.489578, 57.931608, 60.139958],\n",
       " u'mem_latency_512k': [46.532258, 28.92653, 51.073538],\n",
       " u'mem_latency_64k': [12.407086, 13.960718, 11.914438],\n",
       " u'mem_latency_64m': [341.40163, 293.42906, 287.523474],\n",
       " u'mem_latency_8k': [4.076552, 3.991242, 4.001078],\n",
       " u'mem_latency_8m': [167.134058, 178.741408, 177.30767]}"
      ]
     },
     "execution_count": 17,
     "metadata": {},
     "output_type": "execute_result"
    }
   ],
   "source": [
    "run_test(*filter(lambda t: t[:3] == 'mem', get_all_tests()), repeat=3)"
   ]
  },
  {
   "cell_type": "code",
   "execution_count": null,
   "metadata": {
    "collapsed": true
   },
   "outputs": [],
   "source": []
  }
 ],
 "metadata": {
  "kernelspec": {
   "display_name": "Python 2",
   "language": "python",
   "name": "python2"
  },
  "language_info": {
   "codemirror_mode": {
    "name": "ipython",
    "version": 2
   },
   "file_extension": ".py",
   "mimetype": "text/x-python",
   "name": "python",
   "nbconvert_exporter": "python",
   "pygments_lexer": "ipython2",
   "version": "2.7.13"
  }
 },
 "nbformat": 4,
 "nbformat_minor": 2
}
